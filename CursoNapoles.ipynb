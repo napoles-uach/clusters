{
  "nbformat": 4,
  "nbformat_minor": 0,
  "metadata": {
    "colab": {
      "name": "CursoNapoles.ipynb",
      "provenance": [],
      "collapsed_sections": [],
      "include_colab_link": true
    },
    "kernelspec": {
      "name": "python3",
      "display_name": "Python 3"
    }
  },
  "cells": [
    {
      "cell_type": "markdown",
      "metadata": {
        "id": "view-in-github",
        "colab_type": "text"
      },
      "source": [
        "<a href=\"https://colab.research.google.com/github/napoles-uach/clusters/blob/master/CursoNapoles.ipynb\" target=\"_parent\"><img src=\"https://colab.research.google.com/assets/colab-badge.svg\" alt=\"Open In Colab\"/></a>"
      ]
    },
    {
      "cell_type": "markdown",
      "metadata": {
        "id": "WlgPkqU7aSKS",
        "colab_type": "text"
      },
      "source": [
        "# Introducción a Machine Learning para Químicos\n",
        "## J. M. Nápoles y J. P. Palomares\n",
        "### XLIV Semana de Química del 7 al 11 de Octubre de 2019\n",
        "![imagen](https://github.com/napoles-uach/figuras/blob/master/shutterstock_364985204_16_9.jpg?raw=true)\n",
        "\n",
        "**Curso que se ofrece para introducir conceptos generales de Machine Learning mediante ejemplos practicos realizados en la plataforma Google Colaboratory. El lenguaje de programación usado será Python3 y el nivel que se manejará es de principiante.**\n",
        "\n"
      ]
    },
    {
      "cell_type": "markdown",
      "metadata": {
        "id": "tKx_sztEhmYU",
        "colab_type": "text"
      },
      "source": [
        "\n",
        "#Programa del curso\n",
        "1.   ## **Planteamiento general de los tipos de algoritmos -Aprendizaje Supervisado y ejemplos**\n",
        "\n",
        "*  Machine Learning\n",
        "*   Google Colaboratory\n",
        "*  BigML    ( https://bigml.com/ )\n",
        "\n",
        "*   Python y librerías para ML\n",
        "\n",
        "\n",
        "2. ## **Trabajando con bases de datos**\n",
        "* Bases de datos\n",
        "* Pandas\n",
        "* Primer código para ML\n",
        "* Trabajando con datos reales: Clasificación de flores\n",
        "3. ## **Algoritmos de regresión**\n",
        "* Algoritmos de regresión\n",
        "* Trabajando con datos reales: Predicción del precio de casas -Clustering\n",
        "4. ## **Aplicación en sistemas moleculares**\n",
        "* ML para predicción de propiedades de moléculas -tipos de Descriptores\n",
        "* Bases de datos de moléculas\n",
        "\n"
      ]
    },
    {
      "cell_type": "markdown",
      "metadata": {
        "id": "4QkzfIiazkPO",
        "colab_type": "text"
      },
      "source": [
        "![texto alternativo](https://github.com/napoles-uach/figuras/blob/master/barra.png?raw=true)"
      ]
    },
    {
      "cell_type": "markdown",
      "metadata": {
        "id": "dyrhKHkAp1R1",
        "colab_type": "text"
      },
      "source": [
        "# 1. Planteamiento general de los tipos de algoritmos- Aprendizaje Supervisado y ejemplos\n",
        "\n",
        "# 1.1 Ejemplos de problemas adecuados para ML:\n"
      ]
    },
    {
      "cell_type": "markdown",
      "metadata": {
        "colab_type": "text",
        "id": "kurhdNPt0A5E"
      },
      "source": [
        "![texto alternativo](https://github.com/napoles-uach/figuras/blob/master/barra.png?raw=true)\n",
        "# 1.2\n",
        "![texto alternativo](https://github.com/napoles-uach/figuras/blob/master/image_01.png?raw=true)\n",
        "\n",
        "# La plataforma de Google Colaboratory es un entorno de máquinas virtuales basado en los llamados *Jupyter Notebooks*.\n",
        "> # Un Jupyter Notebook es un entorno de trabajo interactivo que permite desarrollar código en PYTHON\n",
        "![texto alternativo](https://github.com/napoles-uach/figuras/blob/master/python-logo.png?raw=true)\n",
        "\n",
        ">**(Instalar Jupyter puede ser un poco complicado para los más novatos)**\n",
        "# Además se pueden incluir bloques de código, texto, ecuaciones en $\\LaTeX$, gráficas interactivas e imagenes.\n",
        "\n",
        "\n",
        "\n",
        "> # Creación de un notebook en COLAB desde DRIVE\n",
        "![texto alternativo](https://github.com/napoles-uach/figuras/blob/master/colab1.png?raw=true)![texto alternativo](https://github.com/napoles-uach/figuras/blob/master/colab2.png?raw=true)\n",
        "\n",
        "\n",
        "\n",
        "\n",
        "\n",
        "\n",
        "\n",
        "\n",
        "\n"
      ]
    },
    {
      "cell_type": "markdown",
      "metadata": {
        "id": "WxPo3P3L9Chy",
        "colab_type": "text"
      },
      "source": [
        "![texto alternativo](https://github.com/napoles-uach/figuras/blob/master/barra.png?raw=true)\n",
        "**Barra de herramientas**\n",
        "\n",
        "Archivo Editar Ver Insertar **Entorno de ejecución** Herramientas Ayuda\n",
        "\n",
        " \\+ Código + Texto\n",
        "\n",
        " Para ejecutar las celdas: Entorno de ejecución -> Ejecutar todas\n",
        " \n",
        " o también Shift + Enter\n",
        "\n",
        " ![texto alternativo](https://github.com/napoles-uach/figuras/blob/master/barra.png?raw=true)\n",
        " # Agregando texto\n",
        " Si damos click en **+ Texto**, se crea un bloque de texto donde se podrá escribir sin que lo interprete como código.\n",
        " Los simbolos \\# sirven para marcar títulos y subtítulos.\n",
        " # Ecuaciones\n",
        " La mayoría de las estructuras de $\\LaTeX$ pueden incluirse encerrando la expresión entre  dos simbolos de `$` . Por ejemplo, escribir `$`e^x=\\sum_{i=0}^\\infty \\frac{1}{i!}x^i`$` da como resultado:\n",
        " $$e^x=\\sum_{i=0}^\\infty \\frac{1}{i!}x^i$$\n",
        " # Tablas\n",
        "\n",
        "Se pueden incluir tablas:\n",
        "```\n",
        "columna A | Columna B\n",
        "--- | ---\n",
        "x1 | x2\n",
        "y1 | y2\n",
        "```\n",
        "\n",
        "dando como resultado:\n",
        "\n",
        "columna A | columna B\n",
        "--- | ---\n",
        "x1 | x2\n",
        "y1 | y2\n",
        "\n",
        "# Imagenes\n",
        "Imagen de internet: !\\[Google's logo](https://www.google.com/images/logos/google_logo_41.png)\n",
        ">![Google's logo](https://www.google.com/images/logos/google_logo_41.png)\n",
        "\n",
        "![texto alternativo](https://github.com/napoles-uach/figuras/blob/master/barra.png?raw=true)"
      ]
    },
    {
      "cell_type": "markdown",
      "metadata": {
        "id": "Pp2TyO2eFA2Z",
        "colab_type": "text"
      },
      "source": [
        "\n",
        "\n",
        "# Shell\n",
        "Las maquinas virtuales corren en UBUNTU linux, y es posible ejecutar comandos básicos como ls, cat, mkdir, etc. Para ello se debe anteponer el símbolo de admiración al comando, por ejemplo !ls\n",
        "\n"
      ]
    },
    {
      "cell_type": "code",
      "metadata": {
        "id": "yIeIaYGO9iH4",
        "colab_type": "code",
        "outputId": "dfb5e317-6fdf-486e-e299-008360cdf0ef",
        "colab": {
          "base_uri": "https://localhost:8080/",
          "height": 35
        }
      },
      "source": [
        "!ls"
      ],
      "execution_count": 0,
      "outputs": [
        {
          "output_type": "stream",
          "text": [
            "logo.png  sample_data\n"
          ],
          "name": "stdout"
        }
      ]
    },
    {
      "cell_type": "markdown",
      "metadata": {
        "id": "YS-y9SiqHIX_",
        "colab_type": "text"
      },
      "source": [
        "Aunque muchos de ellos aparecen como comandos mágicos y en realidad no se requiere el símbolo \"!\""
      ]
    },
    {
      "cell_type": "code",
      "metadata": {
        "id": "FvFralb_Fh0J",
        "colab_type": "code",
        "outputId": "646757a6-a7aa-4f5b-a43e-f7881ce3f9ed",
        "colab": {
          "base_uri": "https://localhost:8080/",
          "height": 35
        }
      },
      "source": [
        "ls"
      ],
      "execution_count": 0,
      "outputs": [
        {
          "output_type": "stream",
          "text": [
            "logo.png  \u001b[0m\u001b[01;34msample_data\u001b[0m/\n"
          ],
          "name": "stdout"
        }
      ]
    },
    {
      "cell_type": "code",
      "metadata": {
        "id": "3JLD59_pGec1",
        "colab_type": "code",
        "outputId": "0e6ceb0b-7be3-4412-ff46-b7722addab06",
        "colab": {
          "base_uri": "https://localhost:8080/",
          "height": 35
        }
      },
      "source": [
        "pwd"
      ],
      "execution_count": 0,
      "outputs": [
        {
          "output_type": "execute_result",
          "data": {
            "text/plain": [
              "'/content'"
            ]
          },
          "metadata": {
            "tags": []
          },
          "execution_count": 3
        }
      ]
    },
    {
      "cell_type": "code",
      "metadata": {
        "id": "AHBF3ItWH4X9",
        "colab_type": "code",
        "colab": {}
      },
      "source": [
        "!cd sample_data/"
      ],
      "execution_count": 0,
      "outputs": []
    },
    {
      "cell_type": "code",
      "metadata": {
        "id": "sJoJqjj0H7jd",
        "colab_type": "code",
        "outputId": "8c5c94a8-63e4-4657-b97b-0c58c4af7044",
        "colab": {
          "base_uri": "https://localhost:8080/",
          "height": 35
        }
      },
      "source": [
        "pwd"
      ],
      "execution_count": 0,
      "outputs": [
        {
          "output_type": "execute_result",
          "data": {
            "text/plain": [
              "'/content'"
            ]
          },
          "metadata": {
            "tags": []
          },
          "execution_count": 5
        }
      ]
    },
    {
      "cell_type": "code",
      "metadata": {
        "id": "cVlovMqjH8OM",
        "colab_type": "code",
        "outputId": "e3b1f52d-ac4c-4884-fc21-56f4ac8f3103",
        "colab": {
          "base_uri": "https://localhost:8080/",
          "height": 35
        }
      },
      "source": [
        "ls"
      ],
      "execution_count": 0,
      "outputs": [
        {
          "output_type": "stream",
          "text": [
            "logo.png  \u001b[0m\u001b[01;34msample_data\u001b[0m/\n"
          ],
          "name": "stdout"
        }
      ]
    },
    {
      "cell_type": "markdown",
      "metadata": {
        "id": "gxf-VBAhJDyJ",
        "colab_type": "text"
      },
      "source": [
        "# Clonar archivos de GitHub"
      ]
    },
    {
      "cell_type": "code",
      "metadata": {
        "id": "bshhtBVbJaYl",
        "colab_type": "code",
        "colab": {}
      },
      "source": [
        "pip -q install py3Dmol"
      ],
      "execution_count": 0,
      "outputs": []
    },
    {
      "cell_type": "code",
      "metadata": {
        "id": "q4Sq6MjhJgkE",
        "colab_type": "code",
        "colab": {}
      },
      "source": [
        "import py3Dmol"
      ],
      "execution_count": 0,
      "outputs": []
    },
    {
      "cell_type": "code",
      "metadata": {
        "id": "3sf---vxJnc0",
        "colab_type": "code",
        "outputId": "7e216ad1-2138-40ba-b83f-8c4041789ff8",
        "colab": {
          "base_uri": "https://localhost:8080/",
          "height": 138
        }
      },
      "source": [
        "!git clone -l -s git://github.com/napoles-uach/clusters.git"
      ],
      "execution_count": 0,
      "outputs": [
        {
          "output_type": "stream",
          "text": [
            "Cloning into 'clusters'...\n",
            "warning: --local is ignored\n",
            "remote: Enumerating objects: 181, done.\u001b[K\n",
            "remote: Total 181 (delta 0), reused 0 (delta 0), pack-reused 181\u001b[K\n",
            "Receiving objects: 100% (181/181), 759.93 KiB | 2.14 MiB/s, done.\n",
            "Resolving deltas: 100% (10/10), done.\n",
            "clusters  logo.png  sample_data\n"
          ],
          "name": "stdout"
        }
      ]
    },
    {
      "cell_type": "code",
      "metadata": {
        "id": "A65btzcRJrwC",
        "colab_type": "code",
        "outputId": "d80de573-9e30-48a1-a23e-04ab25ca41cc",
        "colab": {
          "base_uri": "https://localhost:8080/",
          "height": 35
        }
      },
      "source": [
        "ls"
      ],
      "execution_count": 0,
      "outputs": [
        {
          "output_type": "stream",
          "text": [
            "\u001b[0m\u001b[01;34mclusters\u001b[0m/  logo.png  \u001b[01;34msample_data\u001b[0m/\n"
          ],
          "name": "stdout"
        }
      ]
    },
    {
      "cell_type": "code",
      "metadata": {
        "id": "jWzUZwNwKRrc",
        "colab_type": "code",
        "outputId": "aaa52ccd-fdcc-4a5b-b9a0-a4fd487d20c8",
        "colab": {
          "base_uri": "https://localhost:8080/",
          "height": 259
        }
      },
      "source": [
        "ls clusters/"
      ],
      "execution_count": 0,
      "outputs": [
        {
          "output_type": "stream",
          "text": [
            "10    11   122  135  148  26  38i  50  63   76   87   99\n",
            "100   110  123  136  149  27  39   51  64   76i  88   clustering1.ipynb\n",
            "101   111  124  137  15   28  4    52  65   77   89   clustering2.ipynb\n",
            "102   112  125  138  150  29  40   53  66   77i  9    ener2.csv\n",
            "102i  113  126  139  16   3   41   54  67   78   90   ener3.csv\n",
            "103   114  127  14   17   30  42   55  68   79   91   ener4.csv\n",
            "103i  115  128  140  18   31  43   56  69   8    92   ener.csv\n",
            "104   116  129  141  19   32  44   57  7    80   93   ener_test.csv\n",
            "104i  117  13   142  20   33  45   58  70   81   94   README.md\n",
            "105   118  130  143  21   34  46   59  71   82   95\n",
            "106   119  131  144  22   35  47   6   72   83   96\n",
            "107   12   132  145  23   36  48   60  74   84   97\n",
            "108   120  133  146  24   37  49   61  75   85   98\n",
            "109   121  134  147  25   38  5    62  75i  86   98i\n"
          ],
          "name": "stdout"
        }
      ]
    },
    {
      "cell_type": "code",
      "metadata": {
        "id": "IOXao6UpJurL",
        "colab_type": "code",
        "outputId": "e1c33063-2ac4-4692-885b-45b83d4c4a05",
        "colab": {
          "base_uri": "https://localhost:8080/",
          "height": 190
        }
      },
      "source": [
        "cat clusters/10"
      ],
      "execution_count": 0,
      "outputs": [
        {
          "output_type": "stream",
          "text": [
            "   -0.112678561569957   1.154350068036701  -0.194840194577019\n",
            "    0.455529927957375  -0.141698933988423   1.074987039970359\n",
            "   -1.076845089999501  -0.472850203002737  -0.000759561321676\n",
            "    0.772283646029137   0.650565133523509   0.318426126854726\n",
            "   -0.156611774846419  -0.917108951862921   0.505406908904027\n",
            "   -0.704034080497556   0.331528029107990  -0.717967548406147\n",
            "    0.749396644213383  -0.438279561655135   0.048302291736783\n",
            "   -0.145155893839899  -0.631595300103604  -0.579684879295956\n",
            "    0.417694325594403   0.318313250559209  -0.692983073948749\n",
            "   -0.199579143040966   0.146776469285409   0.239112890083651\n"
          ],
          "name": "stdout"
        }
      ]
    },
    {
      "cell_type": "markdown",
      "metadata": {
        "id": "fjhgeiVGIrvQ",
        "colab_type": "text"
      },
      "source": [
        "![texto alternativo](https://github.com/napoles-uach/figuras/blob/master/barra.png?raw=true)"
      ]
    },
    {
      "cell_type": "code",
      "metadata": {
        "id": "tgsDQHJqIsTE",
        "colab_type": "code",
        "colab": {}
      },
      "source": [
        ""
      ],
      "execution_count": 0,
      "outputs": []
    },
    {
      "cell_type": "markdown",
      "metadata": {
        "id": "VHAbetrxpXBC",
        "colab_type": "text"
      },
      "source": [
        "# Programación en python\n",
        "## Hello word"
      ]
    },
    {
      "cell_type": "code",
      "metadata": {
        "id": "Ws52pU4vpaYr",
        "colab_type": "code",
        "colab": {
          "base_uri": "https://localhost:8080/",
          "height": 34
        },
        "outputId": "5a969cc1-2319-49ff-fd86-c1ba18e70498"
      },
      "source": [
        "print(\"Hello word\")"
      ],
      "execution_count": 1,
      "outputs": [
        {
          "output_type": "stream",
          "text": [
            "Hello word\n"
          ],
          "name": "stdout"
        }
      ]
    },
    {
      "cell_type": "markdown",
      "metadata": {
        "id": "hpl1pcevuswj",
        "colab_type": "text"
      },
      "source": [
        "**Problema: obtener la frecuencia que corresponde a luz de 640 nm.**\n",
        "$$C=\\lambda f$$"
      ]
    },
    {
      "cell_type": "code",
      "metadata": {
        "id": "G6sN90Crp9Wn",
        "colab_type": "code",
        "colab": {
          "base_uri": "https://localhost:8080/",
          "height": 34
        },
        "outputId": "d2c4ad8e-da71-4b9d-910a-81423a3452ef"
      },
      "source": [
        "C=3.0e8 \n",
        "lambd=640e-9 \n",
        "freq=C/lambd\n",
        "Hz2THz=1e-12 \n",
        "print('Para una longitud de onda de ',lambd,'la frecuencia es',freq*Hz2THz, 'THz')"
      ],
      "execution_count": 4,
      "outputs": [
        {
          "output_type": "stream",
          "text": [
            "Para una longitud de onda de  6.4e-07 la frecuencia es 468.75 THz\n"
          ],
          "name": "stdout"
        }
      ]
    },
    {
      "cell_type": "markdown",
      "metadata": {
        "id": "IayBVzGuwwPw",
        "colab_type": "text"
      },
      "source": [
        "#Ciclo for \n",
        "**Ahora supongamos que queremos hacer lo mismo pero repetidas veces para frecuencias de 400, 500 y 600 nm**.\n",
        "\n"
      ]
    },
    {
      "cell_type": "code",
      "metadata": {
        "id": "VM9a1e2jud5C",
        "colab_type": "code",
        "colab": {
          "base_uri": "https://localhost:8080/",
          "height": 70
        },
        "outputId": "85db9b96-e20d-4ce0-c8ed-6baf942de53d"
      },
      "source": [
        "for wavelengths in [400,500,600]:\n",
        "  nm2m=1e-9 \n",
        "  frequency=C/(wavelengths*nm2m)\n",
        "  print('Para una longitud de onda de ',wavelengths,'nm','la frecuencia es',\n",
        "        round(frequency*Hz2THz), 'THz')"
      ],
      "execution_count": 6,
      "outputs": [
        {
          "output_type": "stream",
          "text": [
            "Para una longitud de onda de  400 nm la frecuencia es 750 THz\n",
            "Para una longitud de onda de  500 nm la frecuencia es 600 THz\n",
            "Para una longitud de onda de  600 nm la frecuencia es 500 THz\n"
          ],
          "name": "stdout"
        }
      ]
    },
    {
      "cell_type": "markdown",
      "metadata": {
        "id": "W5mmUd2dymE1",
        "colab_type": "text"
      },
      "source": [
        "# Funciones\n",
        "Podemos definir una función que realice la operación de conversión y llamarla dentro del ciclo. Para definir una función se debe iniciar con la instrucción `def` seguido por el nombre de la función y los argumentos que recibe y dos puntos (:)"
      ]
    },
    {
      "cell_type": "code",
      "metadata": {
        "id": "dGWzApMAxmY_",
        "colab_type": "code",
        "colab": {}
      },
      "source": [
        "def convertw2f(w):\n",
        "  f= C/(w*1e-9)\n",
        "  print('Para una longitud de onda de ',w,'nm','la frecuencia es',round(f*1e-12), 'THz')\n",
        "  return "
      ],
      "execution_count": 0,
      "outputs": []
    },
    {
      "cell_type": "code",
      "metadata": {
        "id": "xog9ipVbyk2b",
        "colab_type": "code",
        "colab": {
          "base_uri": "https://localhost:8080/",
          "height": 34
        },
        "outputId": "b8c42da7-3b61-4a2b-c8c6-1106c46dc696"
      },
      "source": [
        "convertw2f(640)"
      ],
      "execution_count": 13,
      "outputs": [
        {
          "output_type": "stream",
          "text": [
            "Para una longitud de onda de  640 nm la frecuencia es 469 THz\n"
          ],
          "name": "stdout"
        }
      ]
    },
    {
      "cell_type": "markdown",
      "metadata": {
        "id": "o6OvrCMa0rFA",
        "colab_type": "text"
      },
      "source": [
        "**Ahora podemos usarla dentro de un ciclo for**"
      ]
    },
    {
      "cell_type": "code",
      "metadata": {
        "id": "hT1ykby30YD_",
        "colab_type": "code",
        "colab": {
          "base_uri": "https://localhost:8080/",
          "height": 372
        },
        "outputId": "b3c63636-0310-44e5-9c3d-5a0671b2dfa0"
      },
      "source": [
        "for wavelengths in range(400,600,10):\n",
        "  convertw2f(wavelengths)"
      ],
      "execution_count": 15,
      "outputs": [
        {
          "output_type": "stream",
          "text": [
            "Para una longitud de onda de  400 nm la frecuencia es 750 THz\n",
            "Para una longitud de onda de  410 nm la frecuencia es 732 THz\n",
            "Para una longitud de onda de  420 nm la frecuencia es 714 THz\n",
            "Para una longitud de onda de  430 nm la frecuencia es 698 THz\n",
            "Para una longitud de onda de  440 nm la frecuencia es 682 THz\n",
            "Para una longitud de onda de  450 nm la frecuencia es 667 THz\n",
            "Para una longitud de onda de  460 nm la frecuencia es 652 THz\n",
            "Para una longitud de onda de  470 nm la frecuencia es 638 THz\n",
            "Para una longitud de onda de  480 nm la frecuencia es 625 THz\n",
            "Para una longitud de onda de  490 nm la frecuencia es 612 THz\n",
            "Para una longitud de onda de  500 nm la frecuencia es 600 THz\n",
            "Para una longitud de onda de  510 nm la frecuencia es 588 THz\n",
            "Para una longitud de onda de  520 nm la frecuencia es 577 THz\n",
            "Para una longitud de onda de  530 nm la frecuencia es 566 THz\n",
            "Para una longitud de onda de  540 nm la frecuencia es 556 THz\n",
            "Para una longitud de onda de  550 nm la frecuencia es 545 THz\n",
            "Para una longitud de onda de  560 nm la frecuencia es 536 THz\n",
            "Para una longitud de onda de  570 nm la frecuencia es 526 THz\n",
            "Para una longitud de onda de  580 nm la frecuencia es 517 THz\n",
            "Para una longitud de onda de  590 nm la frecuencia es 508 THz\n"
          ],
          "name": "stdout"
        }
      ]
    },
    {
      "cell_type": "code",
      "metadata": {
        "id": "NTVPNXNjAFgR",
        "colab_type": "code",
        "colab": {}
      },
      "source": [
        ""
      ],
      "execution_count": 0,
      "outputs": []
    }
  ]
}