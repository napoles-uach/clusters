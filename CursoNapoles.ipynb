{
  "nbformat": 4,
  "nbformat_minor": 0,
  "metadata": {
    "colab": {
      "name": "CursoNapoles.ipynb",
      "provenance": [],
      "collapsed_sections": [],
      "include_colab_link": true
    },
    "kernelspec": {
      "name": "python3",
      "display_name": "Python 3"
    }
  },
  "cells": [
    {
      "cell_type": "markdown",
      "metadata": {
        "id": "view-in-github",
        "colab_type": "text"
      },
      "source": [
        "<a href=\"https://colab.research.google.com/github/napoles-uach/clusters/blob/master/CursoNapoles.ipynb\" target=\"_parent\"><img src=\"https://colab.research.google.com/assets/colab-badge.svg\" alt=\"Open In Colab\"/></a>"
      ]
    },
    {
      "cell_type": "markdown",
      "metadata": {
        "id": "WlgPkqU7aSKS",
        "colab_type": "text"
      },
      "source": [
        "# Introducción a Machine Learning para Químicos\n",
        "## J. M. Nápoles y J. P. Palomares\n",
        "### XLIV Semana de Química del 7 al 11 de Octubre de 2019\n",
        "![imagen](https://github.com/napoles-uach/figuras/blob/master/shutterstock_364985204_16_9.jpg?raw=true)\n",
        "\n",
        "**Curso que se ofrece para introducir conceptos generales de Machine Learning mediante ejemplos practicos realizados en la plataforma Google Colaboratory. El lenguaje de programación usado será Python3 y el nivel que se manejará es de principiante.**\n",
        "\n"
      ]
    },
    {
      "cell_type": "markdown",
      "metadata": {
        "id": "tKx_sztEhmYU",
        "colab_type": "text"
      },
      "source": [
        "\n",
        "#Programa del curso\n",
        "1.   ## **Planteamiento general de los tipos de algoritmos -Aprendizaje Supervisado y ejemplos**\n",
        "\n",
        "*  Machine Learning\n",
        "*   Google Colaboratory\n",
        "*  BigML    ( https://bigml.com/ )\n",
        "\n",
        "*   Python y librerías para ML\n",
        "\n",
        "\n",
        "2. ## **Trabajando con bases de datos**\n",
        "* Bases de datos\n",
        "* Pandas\n",
        "* Primer código para ML\n",
        "* Trabajando con datos reales: Clasificación de flores\n",
        "3. ## **Algoritmos de regresión**\n",
        "* Algoritmos de regresión\n",
        "* Trabajando con datos reales: Predicción del precio de casas -Clustering\n",
        "4. ## **Aplicación en sistemas moleculares**\n",
        "* ML para predicción de propiedades de moléculas -tipos de Descriptores\n",
        "* Bases de datos de moléculas\n",
        "\n"
      ]
    },
    {
      "cell_type": "markdown",
      "metadata": {
        "id": "4QkzfIiazkPO",
        "colab_type": "text"
      },
      "source": [
        "![texto alternativo](https://github.com/napoles-uach/figuras/blob/master/barra.png?raw=true)"
      ]
    },
    {
      "cell_type": "markdown",
      "metadata": {
        "id": "dyrhKHkAp1R1",
        "colab_type": "text"
      },
      "source": [
        "# 1. Planteamiento general de los tipos de algoritmos- Aprendizaje Supervisado y ejemplos\n",
        "¿Qué es el aprendizaje automático (supervisado)? A continuación, se incluye una definición concisa:\n",
        "\n",
        "Los sistemas de AA aprenden cómo combinar entradas para producir predicciones útiles sobre datos nunca antes vistos.\n",
        "Exploremos la terminología básica del aprendizaje automático.\n",
        ">**Etiquetas**\n",
        "Una etiqueta es el valor que estamos prediciendo, es decir, la variable y en la regresión lineal simple. La etiqueta podría ser el precio futuro del trigo, el tipo de animal que se muestra en una imagen, el significado de un clip de audio o simplemente cualquier cosa.\n",
        "\n",
        "> **Atributos**\n",
        "Un atributo es una variable de entrada, es decir, la variable x en la regresión lineal simple. Un proyecto de aprendizaje automático simple podría usar un solo atributo, mientras que otro más sofisticado podría usar millones de atributos, especificados como:\n",
        "$$ x_1,x_2,...,x_n$$\n",
        "\n",
        " los atributos podrían incluir los siguientes:\n",
        "\n",
        "* palabras en el texto del correo electrónico\n",
        "* dirección del remitente\n",
        "* hora del día a la que se envió\n",
        "* presencia de la frase \"un truco increíble\" en el correo electrónico\n",
        "\n",
        "> **Ejemplos**\n",
        "Un ejemplo es una instancia de datos en particular, **x**. (La x se coloca en negrita para indicar que es un vector). Los ejemplos se dividen en dos categorías:\n",
        "\n",
        "* ejemplos etiquetados\n",
        "* ejemplos sin etiqueta\n",
        "\n",
        "Un ejemplo etiquetado incluye tanto atributos como la etiqueta. Los ejemplos etiquetados se usan para entrenar el modelo. En nuestro ejemplo del detector de spam, los ejemplos etiquetados serían los correos electrónicos individuales que los usuarios marcaron explícitamente como \"es spam\" o \"no es spam\".\n",
        "\n",
        "Por ejemplo, en la siguiente tabla se muestran 5 ejemplos etiquetados de un conjunto de datos que contiene información sobre los precios de vivienda en California:\n",
        "\n",
        "housingMedianAge | totalRooms| totalBedrooms | medianHouseValue \n",
        "---|---|---|---\n",
        "15 |\t5,612 |\t1,283 |\t66,900\n",
        "19 |\t7,650 |\t1,901\t| 80,100\n",
        "17 |\t720\t | 174 |\t85,700\n",
        "14 |\t1,501 |\t337 |\t73,400\n",
        "20 |\t1,454 |\t326 |\t65,500\n",
        "\n",
        "Pace, R. Kelley, y Ronald Barry, \"Sparse Spatial Autoregressions,\" Statistics and Probability Letters, volumen 33, número 3, 5 de mayo de 1997, pp. 291-297.\n",
        "\n",
        "Una vez que el modelo se entrena con ejemplos etiquetados, ese modelo se usa para predecir la etiqueta en ejemplos sin etiqueta. En el detector de spam, los ejemplos sin etiqueta son correos electrónicos nuevos que las personas todavía no han etiquetado.\n",
        "\n",
        ">**Modelos**\n",
        "Un modelo define la relación entre los atributos y la etiqueta. Por ejemplo, un modelo de detección de spam podría asociar de manera muy definida determinados atributos con \"es spam\". Destaquemos dos fases en el ciclo de un modelo:\n",
        "* Entrenamiento significa crear o aprender el modelo. Es decir, le muestras ejemplos etiquetados al modelo y permites que este aprenda gradualmente las relaciones entre los atributos y la etiqueta.\n",
        "* Inferencia significa aplicar el modelo entrenado a ejemplos sin etiqueta. Es decir, usas el modelo entrenado para realizar predicciones útiles (y'). Por ejemplo, durante la inferencia, puedes predecir medianHouseValue para nuevos ejemplos sin etiqueta.\n",
        "# 1.1 Ejemplos de problemas adecuados para ML:\n"
      ]
    },
    {
      "cell_type": "markdown",
      "metadata": {
        "colab_type": "text",
        "id": "kurhdNPt0A5E"
      },
      "source": [
        "![texto alternativo](https://github.com/napoles-uach/figuras/blob/master/barra.png?raw=true)\n",
        "# 1.2\n",
        "![texto alternativo](https://github.com/napoles-uach/figuras/blob/master/image_01.png?raw=true)\n",
        "\n",
        "# La plataforma de Google Colaboratory es un entorno de máquinas virtuales basado en los llamados *Jupyter Notebooks*.\n",
        "> # Un Jupyter Notebook es un entorno de trabajo interactivo que permite desarrollar código en PYTHON\n",
        "![texto alternativo](https://github.com/napoles-uach/figuras/blob/master/python-logo.png?raw=true)\n",
        "\n",
        ">**(Instalar Jupyter puede ser un poco complicado para los más novatos)**\n",
        "# Además se pueden incluir bloques de código, texto, ecuaciones en $\\LaTeX$, gráficas interactivas e imagenes.\n",
        "\n",
        "\n",
        "\n",
        "> # Creación de un notebook en COLAB desde DRIVE\n",
        "![texto alternativo](https://github.com/napoles-uach/figuras/blob/master/colab1.png?raw=true)![texto alternativo](https://github.com/napoles-uach/figuras/blob/master/colab2.png?raw=true)\n",
        "\n",
        "\n",
        "\n",
        "\n",
        "\n",
        "\n",
        "\n",
        "\n",
        "\n"
      ]
    },
    {
      "cell_type": "markdown",
      "metadata": {
        "id": "WxPo3P3L9Chy",
        "colab_type": "text"
      },
      "source": [
        "![texto alternativo](https://github.com/napoles-uach/figuras/blob/master/barra.png?raw=true)\n",
        "**Barra de herramientas**\n",
        "\n",
        "Archivo Editar Ver Insertar **Entorno de ejecución** Herramientas Ayuda\n",
        "\n",
        " \\+ Código + Texto\n",
        "\n",
        " Para ejecutar las celdas: Entorno de ejecución -> Ejecutar todas\n",
        " \n",
        " o también Shift + Enter\n",
        "\n",
        " ![texto alternativo](https://github.com/napoles-uach/figuras/blob/master/barra.png?raw=true)\n",
        " # Agregando texto\n",
        " Si damos click en **+ Texto**, se crea un bloque de texto donde se podrá escribir sin que lo interprete como código.\n",
        " Los simbolos \\# sirven para marcar títulos y subtítulos.\n",
        " \n",
        " > ![texto alternativo](https://github.com/napoles-uach/figuras/blob/master/activity.png?raw=true)**Iniciaremos creando un notebook, escribiendo como encabezado \"Curso ML para Químicos\", nombre, Carrera, fecha, una foto reciente y escribe en qué entiendes por Machine Learning**\n",
        " # Ecuaciones\n",
        " La mayoría de las estructuras de $\\LaTeX$ pueden incluirse encerrando la expresión entre  dos simbolos de `$` . Por ejemplo, escribir `$`e^x=\\sum_{i=0}^\\infty \\frac{1}{i!}x^i`$` da como resultado:\n",
        " $$e^x=\\sum_{i=0}^\\infty \\frac{1}{i!}x^i$$\n",
        "\n",
        "\n",
        "\n",
        "> ![texto alternativo](https://github.com/napoles-uach/figuras/blob/master/activity.png?raw=true) **¿Como se escribiría la ecuación de Schrodinger? Incluyela en tu notebook dando una breve descripción de la ecuación** $$ i\\hbar \\frac{\\partial}{\\partial t} \\Psi (\\mathbf{r},t) = \\hat H \\Psi$$\n",
        " # Tablas\n",
        "\n",
        "Se pueden incluir tablas:\n",
        "```\n",
        "columna A | Columna B\n",
        "--- | ---\n",
        "x1 | x2\n",
        "y1 | y2\n",
        "```\n",
        "\n",
        "dando como resultado:\n",
        "\n",
        "columna A | columna B\n",
        "--- | ---\n",
        "x1 | x2\n",
        "y1 | y2\n",
        "\n",
        "# Imagenes\n",
        "Imagen de internet: !\\[Google's logo](https://www.google.com/images/logos/google_logo_41.png)\n",
        ">![Google's logo](https://www.google.com/images/logos/google_logo_41.png)\n",
        "\n",
        "![texto alternativo](https://github.com/napoles-uach/figuras/blob/master/barra.png?raw=true)"
      ]
    },
    {
      "cell_type": "markdown",
      "metadata": {
        "id": "Pp2TyO2eFA2Z",
        "colab_type": "text"
      },
      "source": [
        "\n",
        "\n",
        "# Shell\n",
        "Las maquinas virtuales corren en UBUNTU linux, y es posible ejecutar comandos básicos como ls, cat, mkdir, etc. Para ello se debe anteponer el símbolo de admiración al comando, por ejemplo !ls\n",
        "\n"
      ]
    },
    {
      "cell_type": "code",
      "metadata": {
        "id": "yIeIaYGO9iH4",
        "colab_type": "code",
        "outputId": "5defbd88-7f26-43c4-9f91-971b22de93f6",
        "colab": {
          "base_uri": "https://localhost:8080/",
          "height": 34
        }
      },
      "source": [
        "!ls"
      ],
      "execution_count": 28,
      "outputs": [
        {
          "output_type": "stream",
          "text": [
            "sample_data\n"
          ],
          "name": "stdout"
        }
      ]
    },
    {
      "cell_type": "markdown",
      "metadata": {
        "id": "YS-y9SiqHIX_",
        "colab_type": "text"
      },
      "source": [
        "Aunque muchos de ellos aparecen como comandos mágicos y en realidad no se requiere el símbolo \"!\""
      ]
    },
    {
      "cell_type": "code",
      "metadata": {
        "id": "FvFralb_Fh0J",
        "colab_type": "code",
        "outputId": "45520e90-93b4-48f1-9729-3574fc4a6f7a",
        "colab": {
          "base_uri": "https://localhost:8080/",
          "height": 34
        }
      },
      "source": [
        "ls"
      ],
      "execution_count": 29,
      "outputs": [
        {
          "output_type": "stream",
          "text": [
            "\u001b[0m\u001b[01;34msample_data\u001b[0m/\n"
          ],
          "name": "stdout"
        }
      ]
    },
    {
      "cell_type": "code",
      "metadata": {
        "id": "3JLD59_pGec1",
        "colab_type": "code",
        "outputId": "db0646f0-7488-44f8-a350-ca9b5347f3f2",
        "colab": {
          "base_uri": "https://localhost:8080/",
          "height": 34
        }
      },
      "source": [
        "pwd"
      ],
      "execution_count": 30,
      "outputs": [
        {
          "output_type": "execute_result",
          "data": {
            "text/plain": [
              "'/content'"
            ]
          },
          "metadata": {
            "tags": []
          },
          "execution_count": 30
        }
      ]
    },
    {
      "cell_type": "code",
      "metadata": {
        "id": "AHBF3ItWH4X9",
        "colab_type": "code",
        "colab": {}
      },
      "source": [
        "!cd sample_data/"
      ],
      "execution_count": 0,
      "outputs": []
    },
    {
      "cell_type": "code",
      "metadata": {
        "id": "sJoJqjj0H7jd",
        "colab_type": "code",
        "outputId": "401bbe1f-097e-4a57-e569-406ea19279b9",
        "colab": {
          "base_uri": "https://localhost:8080/",
          "height": 34
        }
      },
      "source": [
        "pwd"
      ],
      "execution_count": 32,
      "outputs": [
        {
          "output_type": "execute_result",
          "data": {
            "text/plain": [
              "'/content'"
            ]
          },
          "metadata": {
            "tags": []
          },
          "execution_count": 32
        }
      ]
    },
    {
      "cell_type": "code",
      "metadata": {
        "id": "cVlovMqjH8OM",
        "colab_type": "code",
        "outputId": "50da7ee1-b76c-4e57-f213-66183b817dce",
        "colab": {
          "base_uri": "https://localhost:8080/",
          "height": 34
        }
      },
      "source": [
        "ls"
      ],
      "execution_count": 33,
      "outputs": [
        {
          "output_type": "stream",
          "text": [
            "\u001b[0m\u001b[01;34msample_data\u001b[0m/\n"
          ],
          "name": "stdout"
        }
      ]
    },
    {
      "cell_type": "markdown",
      "metadata": {
        "id": "Mx2L8HPEQDwr",
        "colab_type": "text"
      },
      "source": [
        "# Subir archivos desde el equipo local\n",
        "> Abrir el panel izquierdo"
      ]
    },
    {
      "cell_type": "markdown",
      "metadata": {
        "id": "gxf-VBAhJDyJ",
        "colab_type": "text"
      },
      "source": [
        "# Clonar archivos de \n",
        "![texto alternativo](https://github.com/napoles-uach/figuras/blob/master/GitHub-Octocat.png?raw=true)\n",
        "https://github.com/"
      ]
    },
    {
      "cell_type": "code",
      "metadata": {
        "id": "3sf---vxJnc0",
        "colab_type": "code",
        "outputId": "4da7cf65-5288-432c-e4c6-01a6a41d80c1",
        "colab": {
          "base_uri": "https://localhost:8080/",
          "height": 158
        }
      },
      "source": [
        "!git clone -l -s git://github.com/napoles-uach/clusters.git"
      ],
      "execution_count": 34,
      "outputs": [
        {
          "output_type": "stream",
          "text": [
            "Cloning into 'clusters'...\n",
            "warning: --local is ignored\n",
            "remote: Enumerating objects: 9, done.\u001b[K\n",
            "remote: Counting objects:  11% (1/9)\u001b[K\rremote: Counting objects:  22% (2/9)\u001b[K\rremote: Counting objects:  33% (3/9)\u001b[K\rremote: Counting objects:  44% (4/9)\u001b[K\rremote: Counting objects:  55% (5/9)\u001b[K\rremote: Counting objects:  66% (6/9)\u001b[K\rremote: Counting objects:  77% (7/9)\u001b[K\rremote: Counting objects:  88% (8/9)\u001b[K\rremote: Counting objects: 100% (9/9)\u001b[K\rremote: Counting objects: 100% (9/9), done.\u001b[K\n",
            "remote: Compressing objects: 100% (9/9), done.\u001b[K\n",
            "remote: Total 190 (delta 3), reused 0 (delta 0), pack-reused 181\u001b[K\n",
            "Receiving objects: 100% (190/190), 771.22 KiB | 2.76 MiB/s, done.\n",
            "Resolving deltas: 100% (13/13), done.\n"
          ],
          "name": "stdout"
        }
      ]
    },
    {
      "cell_type": "code",
      "metadata": {
        "id": "A65btzcRJrwC",
        "colab_type": "code",
        "outputId": "8f538c0e-916c-4351-ed72-a48051f0d3e0",
        "colab": {
          "base_uri": "https://localhost:8080/",
          "height": 34
        }
      },
      "source": [
        "ls"
      ],
      "execution_count": 35,
      "outputs": [
        {
          "output_type": "stream",
          "text": [
            "\u001b[0m\u001b[01;34mclusters\u001b[0m/  \u001b[01;34msample_data\u001b[0m/\n"
          ],
          "name": "stdout"
        }
      ]
    },
    {
      "cell_type": "code",
      "metadata": {
        "id": "jWzUZwNwKRrc",
        "colab_type": "code",
        "outputId": "a8147a2d-3a76-4445-8f3a-d81b4925e573",
        "colab": {
          "base_uri": "https://localhost:8080/",
          "height": 265
        }
      },
      "source": [
        "ls clusters/"
      ],
      "execution_count": 36,
      "outputs": [
        {
          "output_type": "stream",
          "text": [
            "10    11   122  135  148  26  38i  50  63   76   87   99\n",
            "100   110  123  136  149  27  39   51  64   76i  88   C60-Ih.xyz\n",
            "101   111  124  137  15   28  4    52  65   77   89   clustering1.ipynb\n",
            "102   112  125  138  150  29  40   53  66   77i  9    clustering2.ipynb\n",
            "102i  113  126  139  16   3   41   54  67   78   90   CursoNapoles.ipynb\n",
            "103   114  127  14   17   30  42   55  68   79   91   ener2.csv\n",
            "103i  115  128  140  18   31  43   56  69   8    92   ener3.csv\n",
            "104   116  129  141  19   32  44   57  7    80   93   ener4.csv\n",
            "104i  117  13   142  20   33  45   58  70   81   94   ener.csv\n",
            "105   118  130  143  21   34  46   59  71   82   95   ener_test.csv\n",
            "106   119  131  144  22   35  47   6   72   83   96   README.md\n",
            "107   12   132  145  23   36  48   60  74   84   97\n",
            "108   120  133  146  24   37  49   61  75   85   98\n",
            "109   121  134  147  25   38  5    62  75i  86   98i\n"
          ],
          "name": "stdout"
        }
      ]
    },
    {
      "cell_type": "code",
      "metadata": {
        "id": "IOXao6UpJurL",
        "colab_type": "code",
        "outputId": "1ee635b3-6697-4005-d7c5-c547cd992f89",
        "colab": {
          "base_uri": "https://localhost:8080/",
          "height": 194
        }
      },
      "source": [
        "cat clusters/10"
      ],
      "execution_count": 37,
      "outputs": [
        {
          "output_type": "stream",
          "text": [
            "   -0.112678561569957   1.154350068036701  -0.194840194577019\n",
            "    0.455529927957375  -0.141698933988423   1.074987039970359\n",
            "   -1.076845089999501  -0.472850203002737  -0.000759561321676\n",
            "    0.772283646029137   0.650565133523509   0.318426126854726\n",
            "   -0.156611774846419  -0.917108951862921   0.505406908904027\n",
            "   -0.704034080497556   0.331528029107990  -0.717967548406147\n",
            "    0.749396644213383  -0.438279561655135   0.048302291736783\n",
            "   -0.145155893839899  -0.631595300103604  -0.579684879295956\n",
            "    0.417694325594403   0.318313250559209  -0.692983073948749\n",
            "   -0.199579143040966   0.146776469285409   0.239112890083651\n"
          ],
          "name": "stdout"
        }
      ]
    },
    {
      "cell_type": "markdown",
      "metadata": {
        "id": "fjhgeiVGIrvQ",
        "colab_type": "text"
      },
      "source": [
        "![texto alternativo](https://github.com/napoles-uach/figuras/blob/master/barra.png?raw=true)"
      ]
    },
    {
      "cell_type": "markdown",
      "metadata": {
        "id": "VHAbetrxpXBC",
        "colab_type": "text"
      },
      "source": [
        "# Programación en python\n",
        "## Hello word"
      ]
    },
    {
      "cell_type": "code",
      "metadata": {
        "id": "Ws52pU4vpaYr",
        "colab_type": "code",
        "colab": {
          "base_uri": "https://localhost:8080/",
          "height": 34
        },
        "outputId": "bdb00b8d-8ae5-47f5-a693-08610362210a"
      },
      "source": [
        "print(\"Hello word\")"
      ],
      "execution_count": 38,
      "outputs": [
        {
          "output_type": "stream",
          "text": [
            "Hello word\n"
          ],
          "name": "stdout"
        }
      ]
    },
    {
      "cell_type": "markdown",
      "metadata": {
        "id": "hpl1pcevuswj",
        "colab_type": "text"
      },
      "source": [
        "**Problema: obtener la frecuencia que corresponde a luz de 640 nm usando la fórmula**\n",
        "$$C=\\lambda f$$"
      ]
    },
    {
      "cell_type": "code",
      "metadata": {
        "id": "G6sN90Crp9Wn",
        "colab_type": "code",
        "colab": {
          "base_uri": "https://localhost:8080/",
          "height": 34
        },
        "outputId": "10f46dca-a835-4e6f-aee6-ea46171caf5b"
      },
      "source": [
        "C=3.0e8 \n",
        "lambd=640e-9 \n",
        "freq=C/lambd\n",
        "Hz2THz=1e-12 \n",
        "print('Para una longitud de onda de ',lambd,'la frecuencia es',freq*Hz2THz, 'THz')"
      ],
      "execution_count": 39,
      "outputs": [
        {
          "output_type": "stream",
          "text": [
            "Para una longitud de onda de  6.4e-07 la frecuencia es 468.75 THz\n"
          ],
          "name": "stdout"
        }
      ]
    },
    {
      "cell_type": "markdown",
      "metadata": {
        "id": "IayBVzGuwwPw",
        "colab_type": "text"
      },
      "source": [
        "#Ciclo for \n",
        "**Ahora supongamos que queremos hacer lo mismo pero repetidas veces para frecuencias de 400, 500 y 600 nm**.\n",
        "\n"
      ]
    },
    {
      "cell_type": "code",
      "metadata": {
        "id": "VM9a1e2jud5C",
        "colab_type": "code",
        "colab": {
          "base_uri": "https://localhost:8080/",
          "height": 70
        },
        "outputId": "7e2caa7f-99cc-44b4-de1c-e4097fef4fd5"
      },
      "source": [
        "for wavelengths in [400,500,600]:\n",
        "  nm2m=1e-9 \n",
        "  frequency=C/(wavelengths*nm2m)\n",
        "  print('Para una longitud de onda de ',wavelengths,'nm','la frecuencia es',\n",
        "        round(frequency*Hz2THz), 'THz')"
      ],
      "execution_count": 40,
      "outputs": [
        {
          "output_type": "stream",
          "text": [
            "Para una longitud de onda de  400 nm la frecuencia es 750 THz\n",
            "Para una longitud de onda de  500 nm la frecuencia es 600 THz\n",
            "Para una longitud de onda de  600 nm la frecuencia es 500 THz\n"
          ],
          "name": "stdout"
        }
      ]
    },
    {
      "cell_type": "markdown",
      "metadata": {
        "id": "W5mmUd2dymE1",
        "colab_type": "text"
      },
      "source": [
        "# Funciones\n",
        "Podemos definir una función que realice la operación de conversión y llamarla dentro del ciclo. Para definir una función se debe iniciar con la instrucción `def` seguido por el nombre de la función y los argumentos que recibe y dos puntos (:)"
      ]
    },
    {
      "cell_type": "code",
      "metadata": {
        "id": "dGWzApMAxmY_",
        "colab_type": "code",
        "colab": {}
      },
      "source": [
        "def convertw2f(w):\n",
        "  f= C/(w*1e-9)\n",
        "  print('Para una longitud de onda de ',w,'nm','la frecuencia es',round(f*1e-12), 'THz')\n",
        "  return "
      ],
      "execution_count": 0,
      "outputs": []
    },
    {
      "cell_type": "code",
      "metadata": {
        "id": "xog9ipVbyk2b",
        "colab_type": "code",
        "colab": {
          "base_uri": "https://localhost:8080/",
          "height": 34
        },
        "outputId": "ca92cc3b-7dd6-44f9-8624-a42161080cf6"
      },
      "source": [
        "convertw2f(640)"
      ],
      "execution_count": 42,
      "outputs": [
        {
          "output_type": "stream",
          "text": [
            "Para una longitud de onda de  640 nm la frecuencia es 469 THz\n"
          ],
          "name": "stdout"
        }
      ]
    },
    {
      "cell_type": "markdown",
      "metadata": {
        "id": "o6OvrCMa0rFA",
        "colab_type": "text"
      },
      "source": [
        "**Ahora podemos usarla dentro de un ciclo for**"
      ]
    },
    {
      "cell_type": "code",
      "metadata": {
        "id": "hT1ykby30YD_",
        "colab_type": "code",
        "colab": {
          "base_uri": "https://localhost:8080/",
          "height": 372
        },
        "outputId": "37eece6b-6d60-4700-edfe-e7e32ef73d54"
      },
      "source": [
        "for wavelengths in range(400,600,10):\n",
        "  convertw2f(wavelengths)"
      ],
      "execution_count": 43,
      "outputs": [
        {
          "output_type": "stream",
          "text": [
            "Para una longitud de onda de  400 nm la frecuencia es 750 THz\n",
            "Para una longitud de onda de  410 nm la frecuencia es 732 THz\n",
            "Para una longitud de onda de  420 nm la frecuencia es 714 THz\n",
            "Para una longitud de onda de  430 nm la frecuencia es 698 THz\n",
            "Para una longitud de onda de  440 nm la frecuencia es 682 THz\n",
            "Para una longitud de onda de  450 nm la frecuencia es 667 THz\n",
            "Para una longitud de onda de  460 nm la frecuencia es 652 THz\n",
            "Para una longitud de onda de  470 nm la frecuencia es 638 THz\n",
            "Para una longitud de onda de  480 nm la frecuencia es 625 THz\n",
            "Para una longitud de onda de  490 nm la frecuencia es 612 THz\n",
            "Para una longitud de onda de  500 nm la frecuencia es 600 THz\n",
            "Para una longitud de onda de  510 nm la frecuencia es 588 THz\n",
            "Para una longitud de onda de  520 nm la frecuencia es 577 THz\n",
            "Para una longitud de onda de  530 nm la frecuencia es 566 THz\n",
            "Para una longitud de onda de  540 nm la frecuencia es 556 THz\n",
            "Para una longitud de onda de  550 nm la frecuencia es 545 THz\n",
            "Para una longitud de onda de  560 nm la frecuencia es 536 THz\n",
            "Para una longitud de onda de  570 nm la frecuencia es 526 THz\n",
            "Para una longitud de onda de  580 nm la frecuencia es 517 THz\n",
            "Para una longitud de onda de  590 nm la frecuencia es 508 THz\n"
          ],
          "name": "stdout"
        }
      ]
    },
    {
      "cell_type": "code",
      "metadata": {
        "id": "NTVPNXNjAFgR",
        "colab_type": "code",
        "colab": {}
      },
      "source": [
        ""
      ],
      "execution_count": 0,
      "outputs": []
    },
    {
      "cell_type": "markdown",
      "metadata": {
        "id": "dQwp0H1cxapK",
        "colab_type": "text"
      },
      "source": [
        "> ![texto alternativo](https://github.com/napoles-uach/figuras/blob/master/activity.png?raw=true) **Haz una función para calcular**"
      ]
    },
    {
      "cell_type": "markdown",
      "metadata": {
        "id": "v9Uy2oi_SW5n",
        "colab_type": "text"
      },
      "source": [
        "#Librerías: Numpy, matplotlib, py3dplot, Pandas, etc."
      ]
    },
    {
      "cell_type": "code",
      "metadata": {
        "id": "ktx0N2J3SZ63",
        "colab_type": "code",
        "colab": {
          "base_uri": "https://localhost:8080/",
          "height": 268
        },
        "outputId": "7d33ac1e-1fa3-49c0-fc99-9557862a0f8a"
      },
      "source": [
        "import numpy as np\n",
        "import matplotlib.pyplot as plt\n",
        "%matplotlib inline\n",
        "\n",
        "x=np.arange(0,2*np.pi/3,0.01) \n",
        "y=np.cos(3*x)\n",
        "\n",
        "plt.plot(x,y)\n",
        "plt.show()"
      ],
      "execution_count": 44,
      "outputs": [
        {
          "output_type": "display_data",
          "data": {
            "image/png": "[encoded data removed]",
            "text/plain": [
              "<Figure size 432x288 with 1 Axes>"
            ]
          },
          "metadata": {
            "tags": []
          }
        }
      ]
    },
    {
      "cell_type": "code",
      "metadata": {
        "id": "PqHF24ntSu8v",
        "colab_type": "code",
        "colab": {
          "base_uri": "https://localhost:8080/",
          "height": 294
        },
        "outputId": "572dbeaa-5f28-484d-a913-6155d706bcf7"
      },
      "source": [
        "plt.plot(x,y)\n",
        "plt.xlabel('eje x')\n",
        "plt.ylabel('eje y ')\n",
        "plt.title('título')\n",
        "plt.legend([\"cos(3x)\"])\n",
        "plt.show()"
      ],
      "execution_count": 45,
      "outputs": [
        {
          "output_type": "display_data",
          "data": {
            "image/png": "[encoded data removed]",
            "text/plain": [
              "<Figure size 432x288 with 1 Axes>"
            ]
          },
          "metadata": {
            "tags": []
          }
        }
      ]
    },
    {
      "cell_type": "code",
      "metadata": {
        "id": "T7a7iNEfS9B_",
        "colab_type": "code",
        "colab": {
          "base_uri": "https://localhost:8080/",
          "height": 446
        },
        "outputId": "13b7ba4c-acbc-41ac-e30d-2cc6a506701a"
      },
      "source": [
        "import numpy as np\n",
        "import matplotlib.pyplot as plt\n",
        "u=range(5)\n",
        "v=range(5)\n",
        "uu,vv=np.meshgrid(u,v)\n",
        "print('uu=',uu)\n",
        "print('vv=',vv)\n",
        "plt.plot(uu,vv,marker='.',linestyle='none')\n",
        "plt.show()"
      ],
      "execution_count": 46,
      "outputs": [
        {
          "output_type": "stream",
          "text": [
            "uu= [[0 1 2 3 4]\n",
            " [0 1 2 3 4]\n",
            " [0 1 2 3 4]\n",
            " [0 1 2 3 4]\n",
            " [0 1 2 3 4]]\n",
            "vv= [[0 0 0 0 0]\n",
            " [1 1 1 1 1]\n",
            " [2 2 2 2 2]\n",
            " [3 3 3 3 3]\n",
            " [4 4 4 4 4]]\n"
          ],
          "name": "stdout"
        },
        {
          "output_type": "display_data",
          "data": {
            "image/png": "[encoded data removed]",
            "text/plain": [
              "<Figure size 432x288 with 1 Axes>"
            ]
          },
          "metadata": {
            "tags": []
          }
        }
      ]
    },
    {
      "cell_type": "code",
      "metadata": {
        "id": "jmsGxIVJTRzY",
        "colab_type": "code",
        "colab": {
          "base_uri": "https://localhost:8080/",
          "height": 268
        },
        "outputId": "09d1da8e-7ba7-456f-dfd4-3c9c4a8a9c8f"
      },
      "source": [
        "import matplotlib.pyplot as plt\n",
        "import numpy as np\n",
        "%matplotlib inline\n",
        "\n",
        "dx = 0.02\n",
        "x = y = np.arange(-3.0, 3.0, dx)\n",
        "X, Y = np.meshgrid(x, y)\n",
        "# normal distribution\n",
        "Z = np.exp(-X**2 - Y**2)\n",
        "plt.imshow(Z, interpolation='bilinear')\n",
        "plt.show()"
      ],
      "execution_count": 47,
      "outputs": [
        {
          "output_type": "display_data",
          "data": {
            "image/png": "[encoded data removed]",
            "text/plain": [
              "<Figure size 432x288 with 1 Axes>"
            ]
          },
          "metadata": {
            "tags": []
          }
        }
      ]
    },
    {
      "cell_type": "code",
      "metadata": {
        "id": "I04JL1RaTePt",
        "colab_type": "code",
        "colab": {}
      },
      "source": [
        "!pip install -q py3Dmol"
      ],
      "execution_count": 0,
      "outputs": []
    },
    {
      "cell_type": "code",
      "metadata": {
        "id": "XCLlBPj2u6O9",
        "colab_type": "code",
        "colab": {}
      },
      "source": [
        "import py3Dmol"
      ],
      "execution_count": 0,
      "outputs": []
    },
    {
      "cell_type": "code",
      "metadata": {
        "id": "cLNL22Tsu-on",
        "colab_type": "code",
        "colab": {
          "base_uri": "https://localhost:8080/",
          "height": 34
        },
        "outputId": "8dbe4d16-f60a-47f3-d857-bcbc72b2f6de"
      },
      "source": [
        "!ls"
      ],
      "execution_count": 50,
      "outputs": [
        {
          "output_type": "stream",
          "text": [
            "clusters  sample_data\n"
          ],
          "name": "stdout"
        }
      ]
    },
    {
      "cell_type": "code",
      "metadata": {
        "id": "Zug_WdBSvNjO",
        "colab_type": "code",
        "colab": {
          "base_uri": "https://localhost:8080/",
          "height": 816
        },
        "outputId": "99c479d4-9023-47f5-e8fd-46b8e76dcd32"
      },
      "source": [
        "c60 = open('clusters/C60-Ih.xyz', 'r').read()\n",
        "xyzview = py3Dmol.view(width=800,height=800)\n",
        "xyzview.addModel(c60,'xyz')\n",
        "xyzview.setStyle({'stick':{}})\n",
        "xyzview.setBackgroundColor('0xeeeeee')\n",
        "#xyzview.animate({'loop': 'backAndForth'})\n",
        "xyzview.zoomTo()\n",
        "xyzview.show()"
      ],
      "execution_count": 55,
      "outputs": [
        {
          "output_type": "display_data",
          "data": {
            "application/3dmoljs_load.v0": "<div id=\"3dmolviewer_15701611632704592\"  style=\"position: relative; width: 800px; height: 800px\">\n        <p id=\"3dmolwarning_15701611632704592\" style=\"background-color:#ffcccc;color:black\">You appear to be running in JupyterLab (or JavaScript failed to load for some other reason).  You need to install the 3dmol extension: <br>\n        <tt>jupyter labextension install jupyterlab_3dmol</tt></p>\n        </div>\n<script>\n\nvar loadScriptAsync = function(uri){\n  return new Promise((resolve, reject) => {\n    var tag = document.createElement('script');\n    tag.src = uri;\n    tag.async = true;\n    tag.onload = () => {\n      resolve();\n    };\n  var firstScriptTag = document.getElementsByTagName('script')[0];\n  firstScriptTag.parentNode.insertBefore(tag, firstScriptTag);\n});\n};\n\nif(typeof $3Dmolpromise === 'undefined') {\n$3Dmolpromise = null;\n  $3Dmolpromise = loadScriptAsync('https://3dmol.csb.pitt.edu/build/3Dmol.js');\n}\n\nvar viewer_15701611632704592 = null;\nvar warn = document.getElementById(\"3dmolwarning_15701611632704592\");\nif(warn) {\n    warn.parentNode.removeChild(warn);\n}\n$3Dmolpromise.then(function() {\nviewer_15701611632704592 = $3Dmol.createViewer($(\"#3dmolviewer_15701611632704592\"),{backgroundColor:\"white\"});\n\tviewer_15701611632704592.addModel(\"60\\nC60-Ih                                                                          \\n C     2.16650   0.59060   2.58740     1     2    12     3\\n C     3.03780   0.17660   1.59180     2     1     4     6\\n C     1.27860  -0.30980   3.16790     3    11     1    35\\n C     3.01180  -1.14340   1.16540     4    33     2     5\\n C     3.10340  -1.43350  -0.19300     5    38     8     4\\n C     3.15030   1.21060   0.66820     6     7     2    13\\n C     3.24280   0.91490  -0.68590     7     8     6    54\\n C     3.21920  -0.40230  -1.12070     8     7    59     5\\n C    -0.43930   1.35270   3.12710     9    10    11    20\\n C     0.43630   2.26180   2.55420    10     9    14    12\\n C    -0.02960   0.06330   3.43790    11    19     3     9\\n C     1.74420   1.87900   2.28300    12    13    10     1\\n C     2.35190   2.26760   1.09900    13    12    16     6\\n C    -0.26330   3.02680   1.63260    14    10    15    21\\n C     0.33740   3.40540   0.43730    15    50    14    16\\n C     1.65160   3.02780   0.17070    16    55    13    15\\n C    -2.09030  -0.82250   2.59550    17    28    19    18\\n C    -2.51110   0.46640   2.28540    18    22    20    17\\n C    -0.84490  -1.02520   3.17380    19    11    27    17\\n C    -1.68740   1.55330   2.55120    20    21     9    18\\n C    -1.58430   2.58580   1.63190    21    20    24    14\\n C    -3.23140   0.40610   1.10070    22    18    29    23\\n C    -3.12270   1.44100   0.17460    23    46    24    22\\n C    -2.29470   2.52910   0.43990    24    51    21    23\\n C    -0.49080  -2.91330   1.73650    25    36    27    26\\n C    -1.74300  -2.71240   1.16370    26    30    28    25\\n C    -0.03930  -2.06840   2.74530    27    19    35    25\\n C    -2.54860  -1.66500   1.59420    28    17    29    26\\n C    -3.26020  -0.91410   0.67010    29    28    22    32\\n C    -1.65430  -3.00610  -0.18970    30    26    31    37\\n C    -2.35420  -2.24390  -1.11700    31    42    30    32\\n C    -3.16430  -1.19490  -0.68780    32    47    29    31\\n C     2.13640  -2.05530   1.73580    33     4    35    34\\n C     1.68950  -2.90090   0.72930    34    38    33    36\\n C     1.27850  -1.63660   2.74350    35    27    33     3\\n C     0.36780  -3.33270   0.73020    36    37    25    34\\n C    -0.34400  -3.39040  -0.45940    37    36    40    30\\n C     2.28890  -2.52500  -0.46400    38    34     5    39\\n C     1.57900  -2.57180  -1.65800    39    58    38    40\\n C     0.25600  -3.00540  -1.65310    40    43    37    39\\n C    -2.18280  -0.57830  -2.59790    41    47    42    44\\n C    -1.74800  -1.86940  -2.30830    42    31    43    41\\n C    -0.43850  -2.24690  -2.58450    43    40    57    42\\n C    -1.28150   0.31890  -3.16710    44    60    48    41\\n C    -2.15260   2.05450  -1.73780    45    46    51    48\\n C    -3.04850   1.15350  -1.18110    46    47    45    23\\n C    -3.06560  -0.16290  -1.61070    47    46    41    32\\n C    -1.26610   1.64070  -2.72710    48    52    45    44\\n C     0.50390   2.93610  -1.74180    49    55    52    50\\n C    -0.37880   3.35610  -0.75130    50    51    15    49\\n C    -1.69430   2.91860  -0.74910    51    50    24    45\\n C     0.05210   2.07300  -2.73550    52    48    56    49\\n C     2.09760   0.83400  -2.60510    53    54    56    59\\n C     2.55170   1.69230  -1.61070    54    55    53     7\\n C     1.75890   2.74520  -1.18240    55    54    16    49\\n C     0.84200   1.02060  -3.17860    56    52    60    53\\n C     0.44610  -1.34950  -3.16610    57    60    43    58\\n C     1.69830  -1.54850  -2.59080    58    59    39    57\\n C     2.51840  -0.46230  -2.31710    59     8    58    53\\n C     0.02180  -0.06450  -3.45850    60    57    56    44\\n\",\"xyz\");\n\tviewer_15701611632704592.setStyle({\"stick\": {}});\n\tviewer_15701611632704592.setBackgroundColor(\"0xeeeeee\");\n\tviewer_15701611632704592.zoomTo();\nviewer_15701611632704592.render();\n});\n</script>",
            "text/html": [
              "<div id=\"3dmolviewer_15701611632704592\"  style=\"position: relative; width: 800px; height: 800px\">\n",
              "        <p id=\"3dmolwarning_15701611632704592\" style=\"background-color:#ffcccc;color:black\">You appear to be running in JupyterLab (or JavaScript failed to load for some other reason).  You need to install the 3dmol extension: <br>\n",
              "        <tt>jupyter labextension install jupyterlab_3dmol</tt></p>\n",
              "        </div>\n",
              "<script>\n",
              "\n",
              "var loadScriptAsync = function(uri){\n",
              "  return new Promise((resolve, reject) => {\n",
              "    var tag = document.createElement('script');\n",
              "    tag.src = uri;\n",
              "    tag.async = true;\n",
              "    tag.onload = () => {\n",
              "      resolve();\n",
              "    };\n",
              "  var firstScriptTag = document.getElementsByTagName('script')[0];\n",
              "  firstScriptTag.parentNode.insertBefore(tag, firstScriptTag);\n",
              "});\n",
              "};\n",
              "\n",
              "if(typeof $3Dmolpromise === 'undefined') {\n",
              "$3Dmolpromise = null;\n",
              "  $3Dmolpromise = loadScriptAsync('https://3dmol.csb.pitt.edu/build/3Dmol.js');\n",
              "}\n",
              "\n",
              "var viewer_15701611632704592 = null;\n",
              "var warn = document.getElementById(\"3dmolwarning_15701611632704592\");\n",
              "if(warn) {\n",
              "    warn.parentNode.removeChild(warn);\n",
              "}\n",
              "$3Dmolpromise.then(function() {\n",
              "viewer_15701611632704592 = $3Dmol.createViewer($(\"#3dmolviewer_15701611632704592\"),{backgroundColor:\"white\"});\n",
              "\tviewer_15701611632704592.addModel(\"60\\nC60-Ih                                                                          \\n C     2.16650   0.59060   2.58740     1     2    12     3\\n C     3.03780   0.17660   1.59180     2     1     4     6\\n C     1.27860  -0.30980   3.16790     3    11     1    35\\n C     3.01180  -1.14340   1.16540     4    33     2     5\\n C     3.10340  -1.43350  -0.19300     5    38     8     4\\n C     3.15030   1.21060   0.66820     6     7     2    13\\n C     3.24280   0.91490  -0.68590     7     8     6    54\\n C     3.21920  -0.40230  -1.12070     8     7    59     5\\n C    -0.43930   1.35270   3.12710     9    10    11    20\\n C     0.43630   2.26180   2.55420    10     9    14    12\\n C    -0.02960   0.06330   3.43790    11    19     3     9\\n C     1.74420   1.87900   2.28300    12    13    10     1\\n C     2.35190   2.26760   1.09900    13    12    16     6\\n C    -0.26330   3.02680   1.63260    14    10    15    21\\n C     0.33740   3.40540   0.43730    15    50    14    16\\n C     1.65160   3.02780   0.17070    16    55    13    15\\n C    -2.09030  -0.82250   2.59550    17    28    19    18\\n C    -2.51110   0.46640   2.28540    18    22    20    17\\n C    -0.84490  -1.02520   3.17380    19    11    27    17\\n C    -1.68740   1.55330   2.55120    20    21     9    18\\n C    -1.58430   2.58580   1.63190    21    20    24    14\\n C    -3.23140   0.40610   1.10070    22    18    29    23\\n C    -3.12270   1.44100   0.17460    23    46    24    22\\n C    -2.29470   2.52910   0.43990    24    51    21    23\\n C    -0.49080  -2.91330   1.73650    25    36    27    26\\n C    -1.74300  -2.71240   1.16370    26    30    28    25\\n C    -0.03930  -2.06840   2.74530    27    19    35    25\\n C    -2.54860  -1.66500   1.59420    28    17    29    26\\n C    -3.26020  -0.91410   0.67010    29    28    22    32\\n C    -1.65430  -3.00610  -0.18970    30    26    31    37\\n C    -2.35420  -2.24390  -1.11700    31    42    30    32\\n C    -3.16430  -1.19490  -0.68780    32    47    29    31\\n C     2.13640  -2.05530   1.73580    33     4    35    34\\n C     1.68950  -2.90090   0.72930    34    38    33    36\\n C     1.27850  -1.63660   2.74350    35    27    33     3\\n C     0.36780  -3.33270   0.73020    36    37    25    34\\n C    -0.34400  -3.39040  -0.45940    37    36    40    30\\n C     2.28890  -2.52500  -0.46400    38    34     5    39\\n C     1.57900  -2.57180  -1.65800    39    58    38    40\\n C     0.25600  -3.00540  -1.65310    40    43    37    39\\n C    -2.18280  -0.57830  -2.59790    41    47    42    44\\n C    -1.74800  -1.86940  -2.30830    42    31    43    41\\n C    -0.43850  -2.24690  -2.58450    43    40    57    42\\n C    -1.28150   0.31890  -3.16710    44    60    48    41\\n C    -2.15260   2.05450  -1.73780    45    46    51    48\\n C    -3.04850   1.15350  -1.18110    46    47    45    23\\n C    -3.06560  -0.16290  -1.61070    47    46    41    32\\n C    -1.26610   1.64070  -2.72710    48    52    45    44\\n C     0.50390   2.93610  -1.74180    49    55    52    50\\n C    -0.37880   3.35610  -0.75130    50    51    15    49\\n C    -1.69430   2.91860  -0.74910    51    50    24    45\\n C     0.05210   2.07300  -2.73550    52    48    56    49\\n C     2.09760   0.83400  -2.60510    53    54    56    59\\n C     2.55170   1.69230  -1.61070    54    55    53     7\\n C     1.75890   2.74520  -1.18240    55    54    16    49\\n C     0.84200   1.02060  -3.17860    56    52    60    53\\n C     0.44610  -1.34950  -3.16610    57    60    43    58\\n C     1.69830  -1.54850  -2.59080    58    59    39    57\\n C     2.51840  -0.46230  -2.31710    59     8    58    53\\n C     0.02180  -0.06450  -3.45850    60    57    56    44\\n\",\"xyz\");\n",
              "\tviewer_15701611632704592.setStyle({\"stick\": {}});\n",
              "\tviewer_15701611632704592.setBackgroundColor(\"0xeeeeee\");\n",
              "\tviewer_15701611632704592.zoomTo();\n",
              "viewer_15701611632704592.render();\n",
              "});\n",
              "</script>"
            ]
          },
          "metadata": {
            "tags": []
          }
        }
      ]
    },
    {
      "cell_type": "code",
      "metadata": {
        "id": "kPO92RNSvZiF",
        "colab_type": "code",
        "colab": {}
      },
      "source": [
        ""
      ],
      "execution_count": 0,
      "outputs": []
    }
  ]
}